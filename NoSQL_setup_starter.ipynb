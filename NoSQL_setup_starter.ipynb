{
 "cells": [
  {
   "cell_type": "markdown",
   "id": "9a57c4c6",
   "metadata": {},
   "source": [
    "# Eat Safe, Love"
   ]
  },
  {
   "cell_type": "markdown",
   "id": "064ef857",
   "metadata": {},
   "source": [
    "## Part 1: Database and Jupyter Notebook Set Up"
   ]
  },
  {
   "attachments": {},
   "cell_type": "markdown",
   "id": "664e3c1f",
   "metadata": {},
   "source": [
    "To create the database: \n",
    "1. Navigate to the correct folder on your local drive in your terminal. Type in: \n",
    "mongoimport --type json -d uk_food -c establishments --drop --jsonArray establishments.json\n",
    "\n",
    "This creates a database named uk_food and a collection named establishments. \n",
    "\n"
   ]
  },
  {
   "cell_type": "code",
   "execution_count": 21,
   "id": "3ecdd008",
   "metadata": {},
   "outputs": [],
   "source": [
    "# Import dependencies\n",
    "from pymongo import MongoClient\n",
    "from pprint import pprint\n",
    "\n"
   ]
  },
  {
   "cell_type": "code",
   "execution_count": 22,
   "id": "59390c4a",
   "metadata": {},
   "outputs": [],
   "source": [
    "# Create an instance of MongoClient\n",
    "mongo = MongoClient(port=27017)"
   ]
  },
  {
   "cell_type": "code",
   "execution_count": 23,
   "id": "7f9ececa",
   "metadata": {},
   "outputs": [
    {
     "name": "stdout",
     "output_type": "stream",
     "text": [
      "['admin', 'autosaurus', 'classDB', 'config', 'fruits_db', 'garden_db', 'local', 'met', 'pesitly_marketing', 'petsitly_marketing', 'travel_db', 'uk_food']\n"
     ]
    }
   ],
   "source": [
    "# confirm that our new database was created\n",
    "print(mongo.list_database_names())\n"
   ]
  },
  {
   "cell_type": "code",
   "execution_count": 24,
   "id": "71e373c1",
   "metadata": {},
   "outputs": [],
   "source": [
    "# assign the uk_food database to a variable name\n",
    "db = mongo['uk_food']"
   ]
  },
  {
   "cell_type": "code",
   "execution_count": 25,
   "id": "ef1b89ed",
   "metadata": {},
   "outputs": [
    {
     "name": "stdout",
     "output_type": "stream",
     "text": [
      "['establishments']\n"
     ]
    }
   ],
   "source": [
    "# review the collections in our new database\n",
    "print(db.list_collection_names())"
   ]
  },
  {
   "cell_type": "code",
   "execution_count": 26,
   "id": "6a0d92df",
   "metadata": {},
   "outputs": [
    {
     "name": "stdout",
     "output_type": "stream",
     "text": [
      "{'AddressLine1': 'East Cliff Pavilion',\n",
      " 'AddressLine2': 'Wear Bay Road',\n",
      " 'AddressLine3': 'Folkestone',\n",
      " 'AddressLine4': 'Kent',\n",
      " 'BusinessName': 'The Pavilion',\n",
      " 'BusinessType': 'Restaurant/Cafe/Canteen',\n",
      " 'BusinessTypeID': 1,\n",
      " 'ChangesByServerID': 0,\n",
      " 'Distance': 4591.765489457773,\n",
      " 'FHRSID': 1043695,\n",
      " 'LocalAuthorityBusinessID': 'PI/000073616',\n",
      " 'LocalAuthorityCode': '188',\n",
      " 'LocalAuthorityEmailAddress': 'foodteam@folkestone-hythe.gov.uk',\n",
      " 'LocalAuthorityName': 'Folkestone and Hythe',\n",
      " 'LocalAuthorityWebSite': 'http://www.folkestone-hythe.gov.uk',\n",
      " 'NewRatingPending': False,\n",
      " 'Phone': '',\n",
      " 'PostCode': 'CT19 6BL',\n",
      " 'RatingDate': '2018-04-04T00:00:00',\n",
      " 'RatingKey': 'fhrs_5_en-gb',\n",
      " 'RatingValue': '5',\n",
      " 'RightToReply': '',\n",
      " 'SchemeType': 'FHRS',\n",
      " '_id': ObjectId('63d6b8e3285f68692832bb26'),\n",
      " 'geocode': {'latitude': 51.083812, 'longitude': 1.195625},\n",
      " 'links': [{'href': 'https://api.ratings.food.gov.uk/establishments/1043695',\n",
      "            'rel': 'self'}],\n",
      " 'meta': {'dataSource': None,\n",
      "          'extractDate': '0001-01-01T00:00:00',\n",
      "          'itemCount': 0,\n",
      "          'pageNumber': 0,\n",
      "          'pageSize': 0,\n",
      "          'returncode': None,\n",
      "          'totalCount': 0,\n",
      "          'totalPages': 0},\n",
      " 'scores': {'ConfidenceInManagement': 5, 'Hygiene': 5, 'Structural': 5}}\n"
     ]
    }
   ],
   "source": [
    "# review a document in the establishments collection\n",
    "pprint(db.establishments.find_one())\n"
   ]
  },
  {
   "cell_type": "code",
   "execution_count": 27,
   "id": "11c9f11b",
   "metadata": {},
   "outputs": [],
   "source": [
    "# assign the collection to a variable\n",
    "establishments = db['establishments']"
   ]
  },
  {
   "cell_type": "markdown",
   "id": "d5671434",
   "metadata": {},
   "source": [
    "## Part 2: Update the Database"
   ]
  },
  {
   "cell_type": "markdown",
   "id": "314bd884",
   "metadata": {},
   "source": [
    "1. An exciting new halal restaurant just opened in Greenwich, but hasn't been rated yet. The magazine has asked you to include it in your analysis. Add the following restaurant \"Penang Flavours\" to the database."
   ]
  },
  {
   "cell_type": "code",
   "execution_count": 28,
   "id": "c2da7648",
   "metadata": {},
   "outputs": [],
   "source": [
    "# Create a dictionary for the new restaurant data\n",
    "#Because I do not have any other data on the restaurant, I am only adding in fields for which I have data\n",
    "penang_flavors = {\n",
    " 'BusinessName': 'Penang Flavours',\n",
    " 'AddressLine4': 'Greenwich',\n",
    "   }\n",
    "\n"
   ]
  },
  {
   "cell_type": "code",
   "execution_count": 29,
   "id": "a6e5cece",
   "metadata": {},
   "outputs": [
    {
     "data": {
      "text/plain": [
       "<pymongo.results.InsertOneResult at 0x7f9e666bcd00>"
      ]
     },
     "execution_count": 29,
     "metadata": {},
     "output_type": "execute_result"
    }
   ],
   "source": [
    "# Insert the new restaurant into the collection\n",
    "establishments.insert_one(penang_flavors)"
   ]
  },
  {
   "cell_type": "code",
   "execution_count": 30,
   "id": "63bb10f9",
   "metadata": {},
   "outputs": [
    {
     "name": "stdout",
     "output_type": "stream",
     "text": [
      "{'AddressLine4': 'Greenwich',\n",
      " 'BusinessName': 'Penang Flavours',\n",
      " 'BusinessTypeID': 1,\n",
      " '_id': ObjectId('63d6b9116d8e788fcf334368'),\n",
      " 'geocode': {'latitude': None, 'longitude': None}}\n"
     ]
    }
   ],
   "source": [
    "# Check that the new restaurant was inserted\n",
    "pprint(establishments.find_one({'BusinessName':'Penang Flavours'}))"
   ]
  },
  {
   "cell_type": "markdown",
   "id": "0ef4395a",
   "metadata": {},
   "source": [
    "2. Find the BusinessTypeID for \"Restaurant/Cafe/Canteen\" and return only the `BusinessTypeID` and `BusinessType` fields."
   ]
  },
  {
   "cell_type": "code",
   "execution_count": 31,
   "id": "93c63829",
   "metadata": {},
   "outputs": [
    {
     "name": "stdout",
     "output_type": "stream",
     "text": [
      "{'BusinessType': 'Restaurant/Cafe/Canteen',\n",
      " 'BusinessTypeID': 1,\n",
      " '_id': ObjectId('63d6b8e3285f68692832bb26')}\n"
     ]
    }
   ],
   "source": [
    "# Find the BusinessTypeID for \"Restaurant/Cafe/Canteen\" and return only the BusinessTypeID and BusinessType fields\n",
    "\n",
    "#the query variable defines the field : value I am looking for\n",
    "query = {'BusinessType' : 'Restaurant/Cafe/Canteen'}\n",
    "\n",
    "#the fields variable flags the fields as TRUE to return in the query\n",
    "fields = {'BusinessType': 1, 'BusinessTypeID': 1}\n",
    "\n",
    "#results uses the query and fields variables to run the query and return the fields I am interested in\n",
    "results = db.establishments.find(query, fields)\n",
    "\n",
    "pprint(results[0])\n"
   ]
  },
  {
   "cell_type": "markdown",
   "id": "4e570caf",
   "metadata": {},
   "source": [
    "3. Update the new restaurant with the `BusinessTypeID` you found."
   ]
  },
  {
   "cell_type": "code",
   "execution_count": 32,
   "id": "7f599f3d",
   "metadata": {},
   "outputs": [],
   "source": [
    "# Update the new restaurant with the correct BusinessTypeID\n",
    "\n",
    "#create a variable for finding the restaurant\n",
    "query = {'BusinessName': 'Penang Flavours'}\n",
    "\n",
    "#create a variable for adding the field to the record\n",
    "fields = {'$set': {'BusinessTypeID': 1}}\n",
    "\n",
    "#use update_one to update the restaurant's record\n",
    "update = db.establishments.update_one(query, fields)\n"
   ]
  },
  {
   "cell_type": "code",
   "execution_count": 33,
   "id": "a6ad16f7",
   "metadata": {},
   "outputs": [
    {
     "name": "stdout",
     "output_type": "stream",
     "text": [
      "{'AddressLine4': 'Greenwich',\n",
      " 'BusinessName': 'Penang Flavours',\n",
      " 'BusinessTypeID': 1,\n",
      " '_id': ObjectId('63d6b9116d8e788fcf334368'),\n",
      " 'geocode': {'latitude': None, 'longitude': None}}\n"
     ]
    }
   ],
   "source": [
    "# Confirm that the new restaurant was updated\n",
    "query = {'BusinessName': 'Penang Flavours'}\n",
    "result = db.establishments.find_one(query)\n",
    "\n",
    "pprint(result)"
   ]
  },
  {
   "cell_type": "markdown",
   "id": "67281254",
   "metadata": {},
   "source": [
    "4. The magazine is not interested in any establishments in Dover, so check how many documents contain the Dover Local Authority. Then, remove any establishments within the Dover Local Authority from the database, and check the number of documents to ensure they were deleted."
   ]
  },
  {
   "cell_type": "code",
   "execution_count": 34,
   "id": "768474a6",
   "metadata": {},
   "outputs": [
    {
     "name": "stdout",
     "output_type": "stream",
     "text": [
      "Number of documents with LocalAuthorityName as 'Dover': 0\n"
     ]
    }
   ],
   "source": [
    "# Find how many documents have LocalAuthorityName as \"Dover\"\n",
    "query = {'LocalAuthorityName': 'Dover'}\n",
    "\n",
    "print(\"Number of documents with LocalAuthorityName as 'Dover':\", establishments.count_documents(query))"
   ]
  },
  {
   "cell_type": "code",
   "execution_count": 35,
   "id": "a11d5f1b",
   "metadata": {},
   "outputs": [],
   "source": [
    "# Delete all documents where LocalAuthorityName is \"Dover\"\n",
    "query = {'LocalAuthorityName': 'Dover'}\n",
    "\n",
    "delete = db.establishments.delete_many(query)\n"
   ]
  },
  {
   "cell_type": "code",
   "execution_count": 36,
   "id": "2a51aba0",
   "metadata": {},
   "outputs": [
    {
     "name": "stdout",
     "output_type": "stream",
     "text": [
      "Number of documents with LocalAuthorityName as 'Dover': 0\n"
     ]
    }
   ],
   "source": [
    "# Check if any remaining documents include Dover\n",
    "query = {'LocalAuthorityName': 'Dover'}\n",
    "\n",
    "print(\"Number of documents with LocalAuthorityName as 'Dover':\", establishments.count_documents(query))"
   ]
  },
  {
   "cell_type": "code",
   "execution_count": 37,
   "id": "8c356f7b",
   "metadata": {},
   "outputs": [
    {
     "name": "stdout",
     "output_type": "stream",
     "text": [
      "{'LocalAuthorityName': 'Folkestone and Hythe',\n",
      " '_id': ObjectId('63d6b8e3285f68692832bb26')}\n"
     ]
    }
   ],
   "source": [
    "# Check that other documents remain with 'find_one'\n",
    "fields = {'LocalAuthorityName':1}\n",
    "query = {}\n",
    "\n",
    "results = db.establishments.find_one(query, fields)\n",
    "\n",
    "pprint(results)"
   ]
  },
  {
   "cell_type": "markdown",
   "id": "e9f1662d",
   "metadata": {},
   "source": [
    "5. Some of the number values are stored as strings, when they should be stored as numbers. Use `update_many` to convert `latitude` and `longitude` to decimal numbers."
   ]
  },
  {
   "cell_type": "code",
   "execution_count": 38,
   "id": "fd4112ce",
   "metadata": {},
   "outputs": [
    {
     "name": "stdout",
     "output_type": "stream",
     "text": [
      "{'_id': ObjectId('63d6b8e3285f68692832bb26'),\n",
      " 'geocode': {'latitude': 51.083812, 'longitude': 1.195625}}\n"
     ]
    }
   ],
   "source": [
    "# Change the data type from String to Decimal for longitude\n",
    "query = {}\n",
    "type_change = [{'$set':{ \"geocode.longitude\" : {'$toDouble': \"$geocode.longitude\"}}}]\n",
    "update = db.establishments.update_many(query, type_change)\n",
    "\n",
    "#verify\n",
    "fields = {'geocode.latitude':1, 'geocode.longitude':1}\n",
    "pprint(db.establishments.find_one(query, fields))"
   ]
  },
  {
   "cell_type": "code",
   "execution_count": 39,
   "id": "08dd7c72",
   "metadata": {},
   "outputs": [
    {
     "name": "stdout",
     "output_type": "stream",
     "text": [
      "{'_id': ObjectId('63d6b8e3285f68692832bb26'),\n",
      " 'geocode': {'latitude': 51.083812, 'longitude': 1.195625}}\n"
     ]
    }
   ],
   "source": [
    "# Change the data type from String to Decimal for latitude\n",
    "query = {}\n",
    "type_change = [{'$set':{ \"geocode.latitude\" : {'$toDouble': \"$geocode.latitude\"}}}]\n",
    "update = db.establishments.update_many(query, type_change)\n",
    "\n",
    "#verify\n",
    "fields = {'geocode.latitude':1, 'geocode.longitude':1}\n",
    "pprint(db.establishments.find_one(query, fields))"
   ]
  },
  {
   "cell_type": "code",
   "execution_count": 40,
   "id": "0deacaf9",
   "metadata": {},
   "outputs": [
    {
     "name": "stdout",
     "output_type": "stream",
     "text": [
      "[{'_id': ObjectId('63d6b8e3285f68692832bb26'),\n",
      "  'geocode': {'latitude': 51.083812, 'longitude': 1.195625}},\n",
      " {'_id': ObjectId('63d6b8e3285f68692832bb27'),\n",
      "  'geocode': {'latitude': 51.086058, 'longitude': 1.196408}},\n",
      " {'_id': ObjectId('63d6b8e3285f68692832bb28'),\n",
      "  'geocode': {'latitude': 51.085797, 'longitude': 1.194762}},\n",
      " {'_id': ObjectId('63d6b8e3285f68692832bb2b'),\n",
      "  'geocode': {'latitude': 51.08084, 'longitude': 1.188537}},\n",
      " {'_id': ObjectId('63d6b8e3285f68692832bb2c'),\n",
      "  'geocode': {'latitude': 51.08084, 'longitude': 1.188537}},\n",
      " {'_id': ObjectId('63d6b8e3285f68692832bb2d'),\n",
      "  'geocode': {'latitude': 51.08084, 'longitude': 1.188537}},\n",
      " {'_id': ObjectId('63d6b8e3285f68692832bb2e'),\n",
      "  'geocode': {'latitude': 51.08084, 'longitude': 1.188537}},\n",
      " {'_id': ObjectId('63d6b8e3285f68692832bb2f'),\n",
      "  'geocode': {'latitude': 51.0783519967076, 'longitude': 1.18590330311705}},\n",
      " {'_id': ObjectId('63d6b8e3285f68692832bb30'),\n",
      "  'geocode': {'latitude': 51.0783519967076, 'longitude': 1.18590330311705}},\n",
      " {'_id': ObjectId('63d6b8e3285f68692832bb31'),\n",
      "  'geocode': {'latitude': 51.0783519967076, 'longitude': 1.18590330311705}}]\n"
     ]
    }
   ],
   "source": [
    "# Check that the coordinates are now numbers\n",
    "query = {}\n",
    "fields = {'geocode.latitude':1, 'geocode.longitude':1}\n",
    "results = db.establishments.find(query, fields)\n",
    "\n",
    "pprint(list(results[0:10]))\n"
   ]
  }
 ],
 "metadata": {
  "kernelspec": {
   "display_name": "base",
   "language": "python",
   "name": "python3"
  },
  "language_info": {
   "codemirror_mode": {
    "name": "ipython",
    "version": 3
   },
   "file_extension": ".py",
   "mimetype": "text/x-python",
   "name": "python",
   "nbconvert_exporter": "python",
   "pygments_lexer": "ipython3",
   "version": "3.9.12"
  },
  "vscode": {
   "interpreter": {
    "hash": "f9cb815b88f452d6371433a689dad1c4455ab1127db4ab270e9b7c850f9a9b48"
   }
  }
 },
 "nbformat": 4,
 "nbformat_minor": 5
}
